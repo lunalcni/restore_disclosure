{
 "cells": [
  {
   "cell_type": "code",
   "execution_count": 61,
   "metadata": {
    "ExecuteTime": {
     "end_time": "2021-03-03T16:59:43.607695Z",
     "start_time": "2021-03-03T16:59:43.600695Z"
    }
   },
   "outputs": [],
   "source": [
    "import pandas as pd\n",
    "import pathlib\n",
    "from IPython.display import HTML, display\n",
    "import html\n",
    "from ipywidgets import interact"
   ]
  },
  {
   "cell_type": "code",
   "execution_count": 76,
   "metadata": {
    "ExecuteTime": {
     "end_time": "2021-03-03T17:07:53.513761Z",
     "start_time": "2021-03-03T17:07:53.507769Z"
    }
   },
   "outputs": [
    {
     "name": "stdout",
     "output_type": "stream",
     "text": [
      "16\n"
     ]
    },
    {
     "data": {
      "text/plain": [
       "[WindowsPath('공시 원문/20210218300N00000078.html'),\n",
       " WindowsPath('공시 원문/20210218300N00000079.html'),\n",
       " WindowsPath('공시 원문/20210218300N00000080.html'),\n",
       " WindowsPath('공시 원문/20210218300N00000081.html'),\n",
       " WindowsPath('공시 원문/20210218300N00105228.html')]"
      ]
     },
     "execution_count": 76,
     "metadata": {},
     "output_type": "execute_result"
    }
   ],
   "source": [
    "filepaths = list(pathlib.Path('./공시 원문').glob('*.html'))\n",
    "print(len(filepaths))\n",
    "filepaths[:5]"
   ]
  },
  {
   "cell_type": "code",
   "execution_count": 54,
   "metadata": {
    "ExecuteTime": {
     "end_time": "2021-03-03T16:55:53.263700Z",
     "start_time": "2021-03-03T16:55:53.252690Z"
    }
   },
   "outputs": [],
   "source": [
    "with open(filepaths[0], 'r', encoding='utf8') as fp:\n",
    "    original_text = fp.read()"
   ]
  },
  {
   "cell_type": "code",
   "execution_count": 56,
   "metadata": {
    "ExecuteTime": {
     "end_time": "2021-03-03T16:55:55.704483Z",
     "start_time": "2021-03-03T16:55:55.701482Z"
    }
   },
   "outputs": [],
   "source": [
    "def char_to_bytearray(c):\n",
    "    if ord(c) >= 0xff00:\n",
    "        yield ord(c) % 0xff00\n",
    "    else:\n",
    "        yield from c.encode('euckr')"
   ]
  },
  {
   "cell_type": "code",
   "execution_count": 74,
   "metadata": {
    "ExecuteTime": {
     "end_time": "2021-03-03T17:06:28.594760Z",
     "start_time": "2021-03-03T17:06:28.578800Z"
    }
   },
   "outputs": [],
   "source": [
    "def restore_text(original_text):\n",
    "    return bytearray([b for c in original_text for b in char_to_bytearray(c)]).decode('euckr')"
   ]
  },
  {
   "cell_type": "code",
   "execution_count": 75,
   "metadata": {
    "ExecuteTime": {
     "end_time": "2021-03-03T17:06:29.844424Z",
     "start_time": "2021-03-03T17:06:29.804385Z"
    }
   },
   "outputs": [
    {
     "data": {
      "application/vnd.jupyter.widget-view+json": {
       "model_id": "69da4977038445b89413baf7cd5ae2ad",
       "version_major": 2,
       "version_minor": 0
      },
      "text/plain": [
       "interactive(children=(Dropdown(description='filepath', options=(WindowsPath('공시 원문/20210218300N00000078.html')…"
      ]
     },
     "metadata": {},
     "output_type": "display_data"
    }
   ],
   "source": [
    "@interact\n",
    "def show_data_more_than(filepath=filepaths):\n",
    "    with open(filepath, 'r', encoding='utf8') as fp:\n",
    "        original_text = fp.read()\n",
    "        restored_text = restore_text(original_text)\n",
    "        \n",
    "    html_doc = f'''\n",
    "    <style type=\"text/css\">\n",
    "    .container {{ width: 100% }}\n",
    "    </style>\n",
    "    <iframe srcdoc=\"{html.escape(original_text)}\" width=49%% height=700></iframe>\n",
    "    <iframe srcdoc=\"{html.escape(restored_text)}\" width=49%% height=700></iframe>\n",
    "    '''\n",
    "    return HTML(html_doc)"
   ]
  }
 ],
 "metadata": {
  "kernelspec": {
   "display_name": "Python 3",
   "language": "python",
   "name": "python3"
  },
  "language_info": {
   "codemirror_mode": {
    "name": "ipython",
    "version": 3
   },
   "file_extension": ".py",
   "mimetype": "text/x-python",
   "name": "python",
   "nbconvert_exporter": "python",
   "pygments_lexer": "ipython3",
   "version": "3.7.6"
  },
  "toc": {
   "base_numbering": 1,
   "nav_menu": {},
   "number_sections": true,
   "sideBar": true,
   "skip_h1_title": false,
   "title_cell": "Table of Contents",
   "title_sidebar": "Contents",
   "toc_cell": false,
   "toc_position": {},
   "toc_section_display": true,
   "toc_window_display": false
  }
 },
 "nbformat": 4,
 "nbformat_minor": 4
}
